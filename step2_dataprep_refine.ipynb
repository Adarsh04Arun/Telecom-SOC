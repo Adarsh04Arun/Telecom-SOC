{
  "cells": [
    {
      "cell_type": "markdown",
      "metadata": {},
      "source": [
        "# Step 2 \u2013 DataPrep (Code-Equivalent)\n",
        "Run this notebook to refine your dataset just like IBM Data Refinery.\n",
        "\n",
        "```\n",
        "!python step2_dataprep_refine.py \\\n",
        "  --input /mnt/data/telecom_soc_events_realtime.csv \\\n",
        "  --outdir /mnt/data/refined_output \\\n",
        "  --name telecom_soc_events_realtime_refined \\\n",
        "  --drop_ids\n",
        "```\n"
      ]
    }
  ],
  "metadata": {
    "kernelspec": {
      "display_name": "Python 3",
      "language": "python",
      "name": "python3"
    },
    "language_info": {
      "name": "python",
      "version": "3.x"
    }
  },
  "nbformat": 4,
  "nbformat_minor": 5
}